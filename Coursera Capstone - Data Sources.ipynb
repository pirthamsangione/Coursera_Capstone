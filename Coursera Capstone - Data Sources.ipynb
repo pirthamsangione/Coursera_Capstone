{
 "cells": [
  {
   "cell_type": "markdown",
   "metadata": {},
   "source": [
    "The following list provides some context regarding the source of data used in my analysis"
   ]
  },
  {
   "cell_type": "markdown",
   "metadata": {},
   "source": [
    "## Dataset 1: List of postal codes of Canada: M"
   ]
  },
  {
   "cell_type": "markdown",
   "metadata": {},
   "source": [
    "#### Description: \n",
    "\n",
    "Wikipedia page containing a table that lists all the postal codes starting with the letter \"M\". Postal codes beginning with \"M\" are located within the city of Toronto. Additional information that is listed are the boroughs and corresponding neighborhoods.\n",
    "\n",
    "#### Data Use:\n",
    "\n",
    "Information is scraped using the \"Beautiful Soup\" library in Python.\n",
    "\n",
    "#### Source:\n",
    "\n",
    "https://en.wikipedia.org/wiki/List_of_postal_codes_of_Canada:_M"
   ]
  },
  {
   "cell_type": "markdown",
   "metadata": {},
   "source": [
    "## Dataset 2: Census Profile, 2016 Census"
   ]
  },
  {
   "cell_type": "markdown",
   "metadata": {},
   "source": [
    "#### Description: \n",
    "\n",
    "Webpage on Statistics Canada website containg census information from the year 2016. Data was downloaded as a CSV file named \"population.CSV\".\n",
    "\n",
    "#### Data Use:\n",
    "\n",
    "Information is read into Jupyter Notebook using Pandas \"read_csv\" function and merged into existing dataframe.\n",
    "\n",
    "#### Source:\n",
    "\n",
    "https://www12.statcan.gc.ca/census-recensement/2016/dp-pd/prof/details/page.cfm?Lang=E&Geo1=CSD&Code1=3520005&Geo2=PR&Code2=35&Data=Count&SearchText=Toronto&SearchType=Begins&SearchPR=01&B1=All&GeoLevel=PR&GeoCode=3520005&TABID=1"
   ]
  },
  {
   "cell_type": "markdown",
   "metadata": {},
   "source": [
    "## Dataset 3: Geospatial Data"
   ]
  },
  {
   "cell_type": "markdown",
   "metadata": {},
   "source": [
    "#### Description: \n",
    "\n",
    "CSV file containg the geospatial coordinates of the Toronto postal codes.\n",
    "\n",
    "#### Data Use:\n",
    "\n",
    "Information is read into Jupyter Notebook using Pandas \"read_csv\" function and merged into existing dataframe.\n",
    "\n",
    "#### Source:\n",
    "\n",
    "http://cocl.us/Geospatial_data"
   ]
  },
  {
   "cell_type": "markdown",
   "metadata": {},
   "source": [
    "## Dataset 4: Foursquare API"
   ]
  },
  {
   "cell_type": "markdown",
   "metadata": {},
   "source": [
    "#### Description: \n",
    "\n",
    "Location service that leveraged location data for venues in Toronto.\n",
    "\n",
    "#### Data Use:\n",
    "\n",
    "Connected to Foursquare API in Jupyter Notebook and created a function that got nearby venues in the area of interest.\n",
    "\n",
    "#### Source:\n",
    "\n",
    "https://foursquare.com/developers/apps"
   ]
  }
 ],
 "metadata": {
  "kernelspec": {
   "display_name": "Python 3",
   "language": "python",
   "name": "python3"
  },
  "language_info": {
   "codemirror_mode": {
    "name": "ipython",
    "version": 3
   },
   "file_extension": ".py",
   "mimetype": "text/x-python",
   "name": "python",
   "nbconvert_exporter": "python",
   "pygments_lexer": "ipython3",
   "version": "3.7.1"
  }
 },
 "nbformat": 4,
 "nbformat_minor": 2
}
