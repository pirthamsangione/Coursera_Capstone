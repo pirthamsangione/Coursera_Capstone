{
 "cells": [
  {
   "cell_type": "markdown",
   "metadata": {},
   "source": [
    "# Problem Description:"
   ]
  },
  {
   "cell_type": "markdown",
   "metadata": {},
   "source": [
    "As a data scientist with 'Entrepreneurs R US', you have been tasked with creating a Jupyter Notebook to help local entrepreneurs with their business needs. Specifically, providing insight into what type of venue is most frequently visited and where these venues are located within the vast Toronto region. The entrepreneur can then use this information to aid in their decision to invest in a particular industry."
   ]
  },
  {
   "cell_type": "markdown",
   "metadata": {},
   "source": [
    "# Background"
   ]
  },
  {
   "cell_type": "markdown",
   "metadata": {},
   "source": [
    "Small business owners are often considered the backbone of an economy. These businesses help grow the economy, provide employment, and reduce crime rates. Tasked with providing an online service to such a diverse,multicultural city like Toronto will provide the entrepreneurs with all the necessary information that will help them in picking the location for their new ventures based on their desire to support a specific ethnic group/community in Toronto."
   ]
  },
  {
   "cell_type": "markdown",
   "metadata": {},
   "source": [
    "# Solution"
   ]
  },
  {
   "cell_type": "markdown",
   "metadata": {},
   "source": [
    "Our solution will comprise of 3 crucial steps.\n",
    "\n",
    "1. Scrape and preprocess public and commercial datasets for demographics such as census data, geographic locations, popular venues, etc. \n",
    "\n",
    "2. Apply a K-Means machine learning algorithm to a particular borough of interest (can be changed upon the entrepeneurs request) to cluster popular venues in a certain neighborhood.\n",
    "\n",
    "3. Visualize the results using an interactive map\n",
    "\n",
    "We will then publish the results into a report and presentation that can be made available to the public."
   ]
  }
 ],
 "metadata": {
  "kernelspec": {
   "display_name": "Python 3",
   "language": "python",
   "name": "python3"
  },
  "language_info": {
   "codemirror_mode": {
    "name": "ipython",
    "version": 3
   },
   "file_extension": ".py",
   "mimetype": "text/x-python",
   "name": "python",
   "nbconvert_exporter": "python",
   "pygments_lexer": "ipython3",
   "version": "3.7.1"
  }
 },
 "nbformat": 4,
 "nbformat_minor": 2
}
